{
 "cells": [
  {
   "cell_type": "code",
   "execution_count": 1,
   "metadata": {},
   "outputs": [
    {
     "name": "stdout",
     "output_type": "stream",
     "text": [
      "hello\n"
     ]
    }
   ],
   "source": [
    "print('hello')"
   ]
  },
  {
   "cell_type": "code",
   "execution_count": 4,
   "metadata": {},
   "outputs": [
    {
     "name": "stdout",
     "output_type": "stream",
     "text": [
      "11\n",
      "13\n",
      "17\n",
      "19\n"
     ]
    }
   ],
   "source": [
    "num1 = 10;\n",
    "num2 = 20;\n",
    "\n",
    "for i in range(num1, num2+1):\n",
    "    if i > 1:\n",
    "        isdivisible = False\n",
    "        for num in range(2, i):\n",
    "            if i % num == 0:\n",
    "                isdivisible = True\n",
    "                continue\n",
    "        if not isdivisible:\n",
    "            print(i)"
   ]
  },
  {
   "cell_type": "code",
   "execution_count": 10,
   "metadata": {},
   "outputs": [
    {
     "name": "stdout",
     "output_type": "stream",
     "text": [
      "[[1, 5, 10], [2, 6, 11], [3, 7, 12], [4, 8, 13]]\n"
     ]
    }
   ],
   "source": [
    "m = [[1,2,3,4],\n",
    "    [5,6,7,8,9],\n",
    "    [10,11,12,13]]\n",
    "\n",
    "T = []\n",
    "\n",
    "for i in range(4):\n",
    "    lst = []\n",
    "    for row in m:\n",
    "        lst.append(row[i])\n",
    "    T.append(lst)\n",
    "print(T)"
   ]
  },
  {
   "cell_type": "code",
   "execution_count": 13,
   "metadata": {},
   "outputs": [
    {
     "name": "stdout",
     "output_type": "stream",
     "text": [
      "[[1, 5, 10], [2, 6, 11], [3, 7, 12], [4, 8, 13]]\n"
     ]
    }
   ],
   "source": [
    "m = [[1,2,3,4],\n",
    "    [5,6,7,8,9],\n",
    "    [10,11,12,13]]\n",
    "T = []\n",
    "\n",
    "for i in range(4):\n",
    "    lst = []\n",
    "    for col in m:\n",
    "        lst.append(col[i])\n",
    "    T.append(lst)\n",
    "print(T)"
   ]
  },
  {
   "cell_type": "code",
   "execution_count": 99,
   "metadata": {},
   "outputs": [
    {
     "name": "stdout",
     "output_type": "stream",
     "text": [
      "['Tharun', 'Love', 'Mamatharun', 2, 3, 'Mamatha', [1, 1, 1], 1, 1, 1]\n",
      "Love\n",
      "['Tharun', 'Mamatharun', 3, 'Mamatha', [1, 1, 1], 1, 1, 1]\n",
      "Love\n"
     ]
    }
   ],
   "source": [
    "M = [1,'Tharun',2,3]\n",
    "T = [1,1,1]\n",
    "M.append('Mamatha')\n",
    "M.insert(2, 'Love')\n",
    "M.insert(3,'Mamatharun')\n",
    "M.remove(1)\n",
    "M.append(T)\n",
    "M.extend(T)\n",
    "print(M)\n",
    "a = M.pop(1)\n",
    "M.remove(2)\n",
    "if 'Tharun' in M:\n",
    "    print('Love')\n",
    "if 'Tharun' not in M:\n",
    "    print('False')\n",
    "print(M)\n",
    "print(a)"
   ]
  },
  {
   "cell_type": "code",
   "execution_count": 25,
   "metadata": {},
   "outputs": [
    {
     "name": "stdout",
     "output_type": "stream",
     "text": [
      "[8, 9, 7, 6, 5, 4, 3, 2, 1]\n",
      "[1, 2, 3, 4, 5, 6, 7, 8, 9]\n",
      "[9, 8, 7, 6, 5, 4, 3, 2, 1]\n",
      "[1, 2, 3, 4, 5, 6, 7, 8, 9]\n"
     ]
    }
   ],
   "source": [
    "MT = [1,2,3,4,5,6,7,9,8]\n",
    "MT.reverse()\n",
    "print(MT)\n",
    "S = sorted(MT)\n",
    "print(S)\n",
    "print(sorted(MT, reverse=True))\n",
    "MT.sort()\n",
    "print(MT)"
   ]
  },
  {
   "cell_type": "code",
   "execution_count": 26,
   "metadata": {},
   "outputs": [
    {
     "ename": "TypeError",
     "evalue": "'<' not supported between instances of 'str' and 'int'",
     "output_type": "error",
     "traceback": [
      "\u001b[1;31m---------------------------------------------------------------------------\u001b[0m",
      "\u001b[1;31mTypeError\u001b[0m                                 Traceback (most recent call last)",
      "\u001b[1;32m<ipython-input-26-d18b2213f106>\u001b[0m in \u001b[0;36m<module>\u001b[1;34m\u001b[0m\n\u001b[0;32m      1\u001b[0m \u001b[0mMT\u001b[0m \u001b[1;33m=\u001b[0m \u001b[1;33m[\u001b[0m\u001b[1;36m1\u001b[0m\u001b[1;33m,\u001b[0m\u001b[1;36m2\u001b[0m\u001b[1;33m,\u001b[0m\u001b[1;36m3\u001b[0m\u001b[1;33m,\u001b[0m\u001b[1;36m4\u001b[0m\u001b[1;33m,\u001b[0m\u001b[1;36m56\u001b[0m\u001b[1;33m,\u001b[0m\u001b[1;34m'M'\u001b[0m\u001b[1;33m]\u001b[0m\u001b[1;33m\u001b[0m\u001b[1;33m\u001b[0m\u001b[0m\n\u001b[1;32m----> 2\u001b[1;33m \u001b[0mMT\u001b[0m\u001b[1;33m.\u001b[0m\u001b[0msort\u001b[0m\u001b[1;33m(\u001b[0m\u001b[1;33m)\u001b[0m\u001b[1;33m\u001b[0m\u001b[1;33m\u001b[0m\u001b[0m\n\u001b[0m",
      "\u001b[1;31mTypeError\u001b[0m: '<' not supported between instances of 'str' and 'int'"
     ]
    }
   ],
   "source": [
    "MT = [1,2,3,4,56,'M']\n",
    "MT.sort()"
   ]
  },
  {
   "cell_type": "code",
   "execution_count": 45,
   "metadata": {},
   "outputs": [
    {
     "name": "stdout",
     "output_type": "stream",
     "text": [
      "[1, 2, 3, 4, 5, 'Mamatharun']\n",
      "1\n",
      "2\n",
      "3\n",
      "4\n",
      "5\n",
      "Mamatharun\n"
     ]
    }
   ],
   "source": [
    "M = [1,2,3,4,5]\n",
    "T = M\n",
    "T.append('Mamatharun')\n",
    "print(M)\n",
    "for i in M:\n",
    "    print(i)"
   ]
  },
  {
   "cell_type": "code",
   "execution_count": 29,
   "metadata": {},
   "outputs": [
    {
     "name": "stdout",
     "output_type": "stream",
     "text": [
      "['kfjk', 'jfjjf', 'jklflk,', 'kfke', 'kffkj']\n"
     ]
    }
   ],
   "source": [
    "M ='kfjk jfjjf jklflk, kfke kffkj'\n",
    "ST = M.split()\n",
    "print(ST)"
   ]
  },
  {
   "cell_type": "code",
   "execution_count": 44,
   "metadata": {},
   "outputs": [
    {
     "name": "stdout",
     "output_type": "stream",
     "text": [
      "1\n"
     ]
    }
   ],
   "source": [
    "MT = [1,2,34,5,6,7,8,9, 'Mamatharun']\n",
    "TM = [1,2,3,4,56]\n",
    "MT[5]\n",
    "MT[1:]\n",
    "MT[-1]\n",
    "MT[::]\n",
    "MT[2:9:2]\n",
    "MT[::3]\n",
    "MT+TM\n",
    "print(MT.count(1))"
   ]
  },
  {
   "cell_type": "code",
   "execution_count": 46,
   "metadata": {},
   "outputs": [
    {
     "name": "stdout",
     "output_type": "stream",
     "text": [
      "[0, 1, 4, 9, 16, 25, 36, 49, 64]\n"
     ]
    }
   ],
   "source": [
    "MT = [i**2 for i in range(9)]\n",
    "print(MT)"
   ]
  },
  {
   "cell_type": "code",
   "execution_count": 51,
   "metadata": {},
   "outputs": [
    {
     "name": "stdout",
     "output_type": "stream",
     "text": [
      "[(1, 1), (2, 4), (3, 9), (45, 2025), (-1, 1), (-8, 64), (-1, 1)]\n",
      "[-1, -8, -1]\n"
     ]
    }
   ],
   "source": [
    "h = [1,2,3,45,6-7,-8,-1]\n",
    "TM = [(i,i**2) for i in h]\n",
    "MT = [i for i in h if i<0]\n",
    "print(TM)\n",
    "print(MT)"
   ]
  },
  {
   "cell_type": "code",
   "execution_count": 55,
   "metadata": {},
   "outputs": [
    {
     "name": "stdout",
     "output_type": "stream",
     "text": [
      "[[1, 5, 10, 14], [2, 6, 11, 15], [3, 7, 12, 16], [4, 8, 13, 17]]\n"
     ]
    }
   ],
   "source": [
    "h =[[1,2,3,4],\n",
    "    [5,6,7,8,9],\n",
    "    [10,11,12,13],\n",
    "    [14,15,16,17]]\n",
    "MT = [[row[i] for row in h] for i in range(4)]\n",
    "print(MT)"
   ]
  },
  {
   "cell_type": "code",
   "execution_count": 56,
   "metadata": {},
   "outputs": [
    {
     "name": "stdout",
     "output_type": "stream",
     "text": [
      "[[1, 5, 10, 14], [2, 6, 11, 15], [3, 7, 12, 16], [4, 8, 13, 17]]\n"
     ]
    }
   ],
   "source": [
    "h =[[1,2,3,4],\n",
    "    [5,6,7,8,9],\n",
    "    [10,11,12,13],\n",
    "    [14,15,16,17]]\n",
    "TM = [[col[i] for col in h] for i in range(4)]\n",
    "print(TM)"
   ]
  },
  {
   "cell_type": "code",
   "execution_count": 91,
   "metadata": {},
   "outputs": [
    {
     "name": "stdout",
     "output_type": "stream",
     "text": [
      "(1, 2, 3, 'MT', [1, 2, 'HJVHJ'], 1, 2, 3, 45)\n",
      "('MT', 'MT', 'MT', 'MT', 'MT', 'MT', 'MT', 'MT', 'MT', 'MT', 'MT', 'MT', 'MT', 'MT', 'MT', 'MT', 'MT', 'MT', 'MT', 'MT', 'MT', 'MT', 'MT', 'MT', 'MT', 'MT', 'MT', 'MT', 'MT', 'MT', 'MT', 'MT', 'MT', 'MT', 'MT', 'MT', 'MT', 'MT', 'MT', 'MT', 'MT', 'MT', 'MT', 'MT', 'MT', 'MT', 'MT', 'MT', 'MT', 'MT', 'MT', 'MT', 'MT', 'MT', 'MT', 'MT', 'MT', 'MT', 'MT', 'MT', 'MT', 'MT', 'MT', 'MT', 'MT', 'MT', 'MT')\n",
      "0\n",
      "True\n",
      "5\n",
      "[1, 2, 3, 45]\n",
      "1\n",
      "45\n",
      "51\n"
     ]
    }
   ],
   "source": [
    "TM = (1,2,3, 'MT', [1,2,3])\n",
    "MT = (1,2,3,45)\n",
    "TM[4][2] = 'HJVHJ'\n",
    "print(TM + MT)\n",
    "print(('MT',) *67)\n",
    "print(TM.index(1))\n",
    "print(1 in TM)\n",
    "print(len(TM))\n",
    "M = sorted(MT)\n",
    "print(M)\n",
    "print(min(MT))\n",
    "print(max(MT))\n",
    "print(sum(MT))"
   ]
  },
  {
   "cell_type": "code",
   "execution_count": 76,
   "metadata": {},
   "outputs": [
    {
     "name": "stdout",
     "output_type": "stream",
     "text": [
      "<class 'tuple'>\n"
     ]
    },
    {
     "ename": "NameError",
     "evalue": "name 'TM' is not defined",
     "output_type": "error",
     "traceback": [
      "\u001b[1;31m---------------------------------------------------------------------------\u001b[0m",
      "\u001b[1;31mNameError\u001b[0m                                 Traceback (most recent call last)",
      "\u001b[1;32m<ipython-input-76-eb5d2f622c75>\u001b[0m in \u001b[0;36m<module>\u001b[1;34m\u001b[0m\n\u001b[0;32m      2\u001b[0m \u001b[0mprint\u001b[0m\u001b[1;33m(\u001b[0m\u001b[0mtype\u001b[0m\u001b[1;33m(\u001b[0m\u001b[0mTM\u001b[0m\u001b[1;33m)\u001b[0m\u001b[1;33m)\u001b[0m\u001b[1;33m\u001b[0m\u001b[1;33m\u001b[0m\u001b[0m\n\u001b[0;32m      3\u001b[0m \u001b[1;32mdel\u001b[0m \u001b[0mTM\u001b[0m\u001b[1;33m\u001b[0m\u001b[1;33m\u001b[0m\u001b[0m\n\u001b[1;32m----> 4\u001b[1;33m \u001b[0mprint\u001b[0m\u001b[1;33m(\u001b[0m\u001b[0mTM\u001b[0m\u001b[1;33m)\u001b[0m\u001b[1;33m\u001b[0m\u001b[1;33m\u001b[0m\u001b[0m\n\u001b[0m",
      "\u001b[1;31mNameError\u001b[0m: name 'TM' is not defined"
     ]
    }
   ],
   "source": [
    "TM = ('TM','MT')\n",
    "print(type(TM))\n",
    "del TM\n",
    "print(TM)"
   ]
  },
  {
   "cell_type": "code",
   "execution_count": 143,
   "metadata": {},
   "outputs": [
    {
     "name": "stdout",
     "output_type": "stream",
     "text": [
      "{1, 2, 3, 4, 5, 6, 7, 34, 8, 9}\n",
      "{1, 2, 3, 4, 5, 7}\n",
      "{34, 6}\n",
      "{6, 34, 8, 9}\n",
      "False\n",
      "False\n",
      "{1, 2, 3, 4, 5, 6, 7, 34, 8, 9}\n",
      "{1, 2, 3, 4, 5, 7}\n",
      "{6, 34, 8, 9}\n"
     ]
    },
    {
     "ename": "TypeError",
     "evalue": "add() takes exactly one argument (2 given)",
     "output_type": "error",
     "traceback": [
      "\u001b[1;31m---------------------------------------------------------------------------\u001b[0m",
      "\u001b[1;31mTypeError\u001b[0m                                 Traceback (most recent call last)",
      "\u001b[1;32m<ipython-input-143-9a6806d8052a>\u001b[0m in \u001b[0;36m<module>\u001b[1;34m\u001b[0m\n\u001b[0;32m     10\u001b[0m \u001b[0mprint\u001b[0m\u001b[1;33m(\u001b[0m\u001b[0ms1\u001b[0m\u001b[1;33m.\u001b[0m\u001b[0mintersection\u001b[0m\u001b[1;33m(\u001b[0m\u001b[0ms2\u001b[0m\u001b[1;33m)\u001b[0m\u001b[1;33m)\u001b[0m\u001b[1;33m\u001b[0m\u001b[1;33m\u001b[0m\u001b[0m\n\u001b[0;32m     11\u001b[0m \u001b[0mprint\u001b[0m\u001b[1;33m(\u001b[0m\u001b[0ms1\u001b[0m\u001b[1;33m.\u001b[0m\u001b[0msymmetric_difference\u001b[0m\u001b[1;33m(\u001b[0m\u001b[0ms2\u001b[0m\u001b[1;33m)\u001b[0m\u001b[1;33m)\u001b[0m\u001b[1;33m\u001b[0m\u001b[1;33m\u001b[0m\u001b[0m\n\u001b[1;32m---> 12\u001b[1;33m \u001b[0ms1\u001b[0m\u001b[1;33m.\u001b[0m\u001b[0madd\u001b[0m\u001b[1;33m(\u001b[0m\u001b[1;36m10\u001b[0m\u001b[1;33m,\u001b[0m\u001b[1;36m11\u001b[0m\u001b[1;33m)\u001b[0m\u001b[1;33m\u001b[0m\u001b[1;33m\u001b[0m\u001b[0m\n\u001b[0m\u001b[0;32m     13\u001b[0m \u001b[0ms1\u001b[0m\u001b[1;33m.\u001b[0m\u001b[0mupdate\u001b[0m\u001b[1;33m(\u001b[0m\u001b[1;33m[\u001b[0m\u001b[1;36m12\u001b[0m\u001b[1;33m,\u001b[0m\u001b[1;36m3\u001b[0m\u001b[1;33m,\u001b[0m\u001b[1;36m4\u001b[0m\u001b[1;33m,\u001b[0m\u001b[1;36m5\u001b[0m\u001b[1;33m]\u001b[0m\u001b[1;33m,\u001b[0m \u001b[1;33m{\u001b[0m\u001b[1;36m4565465456\u001b[0m\u001b[1;33m,\u001b[0m\u001b[1;36m54546456\u001b[0m\u001b[1;33m}\u001b[0m\u001b[1;33m)\u001b[0m\u001b[1;33m\u001b[0m\u001b[1;33m\u001b[0m\u001b[0m\n\u001b[0;32m     14\u001b[0m \u001b[0mprint\u001b[0m\u001b[1;33m(\u001b[0m\u001b[0ms1\u001b[0m\u001b[1;33m)\u001b[0m\u001b[1;33m\u001b[0m\u001b[1;33m\u001b[0m\u001b[0m\n",
      "\u001b[1;31mTypeError\u001b[0m: add() takes exactly one argument (2 given)"
     ]
    }
   ],
   "source": [
    "s1 = {1,2,3,4,5,6,7,1,2,34,5,6}\n",
    "s2 = {1,2,3,4,5,7,8,9}\n",
    "print(s1 | s2)\n",
    "print(s1 & s2)\n",
    "print(s1 - s2)\n",
    "print(s1 ^ s2)\n",
    "print(s1.issubset(s2))\n",
    "print(s2.issubset(s1))\n",
    "print(s1.union(s2))\n",
    "print(s1.intersection(s2))\n",
    "print(s1.symmetric_difference(s2))\n",
    "s1.add(10)\n",
    "s1.update([12,3,4,5], {4565465456,54546456})\n",
    "print(s1)"
   ]
  },
  {
   "cell_type": "code",
   "execution_count": 221,
   "metadata": {},
   "outputs": [
    {
     "name": "stdout",
     "output_type": "stream",
     "text": [
      "{1, 2, 3, 5, 6}\n"
     ]
    }
   ],
   "source": [
    "s = {1,2,3,4,5,6}\n",
    "s.discard(4)\n",
    "#s.remove(7)\n",
    "s.discard(7)\n",
    "s.pop\n",
    "print(s)"
   ]
  },
  {
   "cell_type": "code",
   "execution_count": 115,
   "metadata": {},
   "outputs": [
    {
     "name": "stdout",
     "output_type": "stream",
     "text": [
      "set()\n"
     ]
    }
   ],
   "source": [
    "s = {1,2,3,4,5,6}\n",
    "s3 = s.pop()\n",
    "s.clear()\n",
    "print(s)"
   ]
  },
  {
   "cell_type": "code",
   "execution_count": 142,
   "metadata": {},
   "outputs": [
    {
     "name": "stdout",
     "output_type": "stream",
     "text": [
      "frozenset({1, 2, 3, 4, 5, 6})\n"
     ]
    },
    {
     "ename": "AttributeError",
     "evalue": "'frozenset' object has no attribute 'add'",
     "output_type": "error",
     "traceback": [
      "\u001b[1;31m---------------------------------------------------------------------------\u001b[0m",
      "\u001b[1;31mAttributeError\u001b[0m                            Traceback (most recent call last)",
      "\u001b[1;32m<ipython-input-142-b628a09e6d50>\u001b[0m in \u001b[0;36m<module>\u001b[1;34m\u001b[0m\n\u001b[0;32m      2\u001b[0m \u001b[0mu\u001b[0m \u001b[1;33m=\u001b[0m \u001b[0mfrozenset\u001b[0m\u001b[1;33m(\u001b[0m\u001b[1;33m[\u001b[0m\u001b[1;36m1\u001b[0m\u001b[1;33m,\u001b[0m\u001b[1;36m2\u001b[0m\u001b[1;33m,\u001b[0m\u001b[1;36m3\u001b[0m\u001b[1;33m,\u001b[0m\u001b[1;36m8\u001b[0m\u001b[1;33m,\u001b[0m\u001b[1;36m9\u001b[0m\u001b[1;33m,\u001b[0m\u001b[1;36m7\u001b[0m\u001b[1;33m]\u001b[0m\u001b[1;33m)\u001b[0m\u001b[1;33m\u001b[0m\u001b[1;33m\u001b[0m\u001b[0m\n\u001b[0;32m      3\u001b[0m \u001b[0mprint\u001b[0m\u001b[1;33m(\u001b[0m\u001b[0mv\u001b[0m\u001b[1;33m)\u001b[0m\u001b[1;33m\u001b[0m\u001b[1;33m\u001b[0m\u001b[0m\n\u001b[1;32m----> 4\u001b[1;33m \u001b[0mv\u001b[0m\u001b[1;33m.\u001b[0m\u001b[0madd\u001b[0m\u001b[1;33m(\u001b[0m\u001b[1;36m1\u001b[0m\u001b[1;33m)\u001b[0m\u001b[1;33m\u001b[0m\u001b[1;33m\u001b[0m\u001b[0m\n\u001b[0m",
      "\u001b[1;31mAttributeError\u001b[0m: 'frozenset' object has no attribute 'add'"
     ]
    }
   ],
   "source": [
    "v = frozenset([1,2,3,4,5,6])\n",
    "u = frozenset([1,2,3,8,9,7])\n",
    "print(v)\n",
    "v.add(1)"
   ]
  },
  {
   "cell_type": "code",
   "execution_count": 132,
   "metadata": {},
   "outputs": [
    {
     "name": "stdout",
     "output_type": "stream",
     "text": [
      "frozenset({1, 2, 3, 4, 5, 6, 7, 8, 9})\n",
      "frozenset({1, 2, 3})\n",
      "frozenset({4, 5, 6})\n",
      "frozenset({4, 5, 6, 7, 8, 9})\n",
      "False\n",
      "False\n"
     ]
    }
   ],
   "source": [
    "print(v | u)\n",
    "print( v & u)\n",
    "print( v - u)\n",
    "print(v ^ u)\n",
    "print(v.issubset(u))\n",
    "print(u.issubset(v))"
   ]
  },
  {
   "cell_type": "code",
   "execution_count": 191,
   "metadata": {},
   "outputs": [
    {
     "name": "stdout",
     "output_type": "stream",
     "text": [
      "{'nm': 'MT', 'ge': 24, 1: ['lovers', 2]}\n",
      "['lovers', 2]\n"
     ]
    }
   ],
   "source": [
    "dic = {'nm': 'TM', 'ge': 24, 1: ['lovers', 2]}\n",
    "dic['nm'] = 'MT'\n",
    "print(dic)\n",
    "print(dic[1])\n"
   ]
  },
  {
   "cell_type": "code",
   "execution_count": 195,
   "metadata": {},
   "outputs": [
    {
     "name": "stdout",
     "output_type": "stream",
     "text": [
      "MT\n",
      "{'nm': 'MT', 'ge': 24, 1: ['lovers', 2]}\n"
     ]
    }
   ],
   "source": [
    "D = {1:'TM', 2: 'MT', 3:'love', 4: {1: 'Love', 2: 'love'}}\n",
    "print(D.get(2))\n",
    "\n",
    "v = dic.copy()\n",
    "print(v)"
   ]
  },
  {
   "cell_type": "code",
   "execution_count": 188,
   "metadata": {},
   "outputs": [
    {
     "name": "stdout",
     "output_type": "stream",
     "text": [
      "{1: 'love', 2: 'lve', 3: 'hhd'}\n"
     ]
    }
   ],
   "source": [
    "d = dict([(1,'love'), (2,'lve'), (3, 'hhd')])\n",
    "print(d)"
   ]
  },
  {
   "cell_type": "code",
   "execution_count": 189,
   "metadata": {},
   "outputs": [
    {
     "name": "stdout",
     "output_type": "stream",
     "text": [
      "{1: 'love', 3: 'hhd'}\n"
     ]
    }
   ],
   "source": [
    "del d[2]\n",
    "print(d)"
   ]
  },
  {
   "cell_type": "code",
   "execution_count": 190,
   "metadata": {},
   "outputs": [
    {
     "name": "stdout",
     "output_type": "stream",
     "text": [
      "{}\n"
     ]
    }
   ],
   "source": [
    "d.clear()\n",
    "print(d)"
   ]
  },
  {
   "cell_type": "code",
   "execution_count": 197,
   "metadata": {},
   "outputs": [
    {
     "name": "stdout",
     "output_type": "stream",
     "text": [
      "{(1, 2): 0, (3, 4): 0}\n"
     ]
    }
   ],
   "source": [
    "x = {}.fromkeys([(1,2), (3,4)],0)\n",
    "print(x)"
   ]
  },
  {
   "cell_type": "code",
   "execution_count": 202,
   "metadata": {},
   "outputs": [
    {
     "name": "stdout",
     "output_type": "stream",
     "text": [
      "233\n"
     ]
    }
   ],
   "source": [
    "x = dict([(1,233), (2,2498)])\n",
    "print(x.get(1))"
   ]
  },
  {
   "cell_type": "code",
   "execution_count": 216,
   "metadata": {},
   "outputs": [
    {
     "name": "stdout",
     "output_type": "stream",
     "text": [
      "{1: 0, 2: 0, 3: 0}\n"
     ]
    }
   ],
   "source": [
    "x = {}.fromkeys([1,2,3],0)\n",
    "print(x)"
   ]
  },
  {
   "cell_type": "code",
   "execution_count": 210,
   "metadata": {},
   "outputs": [
    {
     "name": "stdout",
     "output_type": "stream",
     "text": [
      "{(1, 2, 3): 0}\n"
     ]
    }
   ],
   "source": [
    "y = {k:v for k,v in x.items()}\n",
    "print(y)"
   ]
  },
  {
   "cell_type": "code",
   "execution_count": 215,
   "metadata": {},
   "outputs": [
    {
     "name": "stdout",
     "output_type": "stream",
     "text": [
      "{2: 54665}\n",
      "(1, -46556)\n",
      "(2, 54665)\n"
     ]
    }
   ],
   "source": [
    "x = dict([(1,-46556), (2, 54665)])\n",
    "c = {k:v for k,v in x.items() if v>0}\n",
    "print(c)\n",
    "for items in x.items():\n",
    "    print(items)"
   ]
  },
  {
   "cell_type": "code",
   "execution_count": 218,
   "metadata": {},
   "outputs": [
    {
     "name": "stdout",
     "output_type": "stream",
     "text": [
      "x\n"
     ]
    }
   ],
   "source": [
    " x = 'gxghcb'\n",
    "print(x[1])"
   ]
  },
  {
   "cell_type": "code",
   "execution_count": 223,
   "metadata": {},
   "outputs": [
    {
     "ename": "NameError",
     "evalue": "name 'x' is not defined",
     "output_type": "error",
     "traceback": [
      "\u001b[1;31m---------------------------------------------------------------------------\u001b[0m",
      "\u001b[1;31mNameError\u001b[0m                                 Traceback (most recent call last)",
      "\u001b[1;32m<ipython-input-223-8c23cd95a3fd>\u001b[0m in \u001b[0;36m<module>\u001b[1;34m\u001b[0m\n\u001b[1;32m----> 1\u001b[1;33m \u001b[1;32mdel\u001b[0m \u001b[0mx\u001b[0m\u001b[1;33m\u001b[0m\u001b[1;33m\u001b[0m\u001b[0m\n\u001b[0m\u001b[0;32m      2\u001b[0m \u001b[0mprint\u001b[0m\u001b[1;33m(\u001b[0m\u001b[0mx\u001b[0m\u001b[1;33m)\u001b[0m\u001b[1;33m\u001b[0m\u001b[1;33m\u001b[0m\u001b[0m\n",
      "\u001b[1;31mNameError\u001b[0m: name 'x' is not defined"
     ]
    }
   ],
   "source": [
    "del x\n",
    "print(x)"
   ]
  },
  {
   "cell_type": "code",
   "execution_count": 252,
   "metadata": {},
   "outputs": [
    {
     "name": "stdout",
     "output_type": "stream",
     "text": [
      "jfjjf sdvsdv dsfdsgvzdvzdv\n",
      "jfjjf sdvsdv dsfdsgjfjjf sdvsdv dsfdsgjfjjf sdvsdv dsfdsg\n",
      "3\n",
      "True\n",
      "True\n",
      "jfjjf sdvsdv dsfdsg\n",
      "JFJJF SDVSDV DSFDSG\n",
      "['jfjjf', 'sdvsdv', 'dsfdsg']\n",
      "dfdgf egsfgvfsb vfg efgfsgvf fvfdsvb\n",
      "13\n",
      "['dvdv', 'vfv', 'vfvgf']\n",
      "sgsgsgsgf\n",
      "fdsgfdsgf\n"
     ]
    }
   ],
   "source": [
    "x = 'jfjjf sdvsdv dsfdsg'\n",
    "y = 'vzdvzdv'\n",
    "\n",
    "print(x+y)\n",
    "print(x*3)\n",
    "count = 0\n",
    "for l in x:\n",
    "    if l == 'j':\n",
    "        count+= 1\n",
    "print(count)\n",
    "print('j' in x)\n",
    "print('v' in y)\n",
    "print(x.lower())\n",
    "print(x.upper())\n",
    "print(x.split())\n",
    "f = ' '.join(['dfdgf', 'egsfgvfsb', 'vfg', 'efgfsgvf', 'fvfdsvb'])\n",
    "print(f)\n",
    "print(x.find('ds'))\n",
    "\n",
    "g = 'dvdv vfv vfvgf'\n",
    "d = print(g.split())\n",
    "' '.join(['cdc', 'vfv', 'fdfdf', 'svdsvdv'])\n",
    "g.find('vf')\n",
    "d = 'fdsgfdsgf'\n",
    "a = d.replace('fd', 'sg')\n",
    "print(a)\n",
    "print(d)"
   ]
  },
  {
   "cell_type": "code",
   "execution_count": 239,
   "metadata": {},
   "outputs": [
    {
     "name": "stdout",
     "output_type": "stream",
     "text": [
      "{1: 5445, 2: 5445, 3: 5445}\n"
     ]
    }
   ],
   "source": [
    "e = {}.fromkeys([1,2,3], 5445)\n",
    "print(e)"
   ]
  },
  {
   "cell_type": "code",
   "execution_count": 253,
   "metadata": {},
   "outputs": [
    {
     "name": "stdout",
     "output_type": "stream",
     "text": [
      "b is a palindrom\n"
     ]
    }
   ],
   "source": [
    "b = 'bfggfb'\n",
    "\n",
    "x = reversed(b)\n",
    "\n",
    "if list(b) == list(x):\n",
    "    print('b is a palindrom')\n",
    "else:\n",
    "    print('b is not a palindrom')"
   ]
  },
  {
   "cell_type": "code",
   "execution_count": 258,
   "metadata": {},
   "outputs": [
    {
     "name": "stdout",
     "output_type": "stream",
     "text": [
      "dfvbfvb\n",
      "dfvdsv\n",
      "dfvsdfvbfsd\n",
      "dvdsv\n",
      "dvdsv\n",
      "rvdsv\n",
      "sdvdsv\n",
      "vdsvc\n",
      "vsvdsfv\n"
     ]
    }
   ],
   "source": [
    "f = 'vsvdsfv dfvsdfvbfsd dfvbfvb rvdsv dvdsv dfvdsv sdvdsv dvdsv  vdsvc'\n",
    "\n",
    "w = f.split()\n",
    "w.sort()\n",
    "for ele in w:\n",
    "    print(ele)\n",
    "\n"
   ]
  },
  {
   "cell_type": "code",
   "execution_count": 3,
   "metadata": {},
   "outputs": [
    {
     "name": "stdout",
     "output_type": "stream",
     "text": [
      "The nme is Tharun\n"
     ]
    }
   ],
   "source": [
    "def print_name(nme):\n",
    "    ''' printing the nme'''\n",
    "    print('The nme is', str(nme))\n",
    "\n",
    "print_name('Tharun')\n",
    "    "
   ]
  },
  {
   "cell_type": "code",
   "execution_count": 4,
   "metadata": {},
   "outputs": [
    {
     "data": {
      "text/plain": [
       "' printing the nme'"
      ]
     },
     "execution_count": 4,
     "metadata": {},
     "output_type": "execute_result"
    }
   ],
   "source": [
    "print_name.__doc__"
   ]
  },
  {
   "cell_type": "code",
   "execution_count": 5,
   "metadata": {},
   "outputs": [
    {
     "name": "stdout",
     "output_type": "stream",
     "text": [
      "28\n"
     ]
    }
   ],
   "source": [
    "def sum_list(lst):\n",
    "    '''This function returns sum of elements in the list'''\n",
    "    su = 0\n",
    "    for ele in lst:\n",
    "        su+= ele\n",
    "    return su\n",
    "\n",
    "c = sum_list([1,2,3,4,5,6,7])\n",
    "print(c)"
   ]
  },
  {
   "cell_type": "code",
   "execution_count": 6,
   "metadata": {},
   "outputs": [
    {
     "name": "stdout",
     "output_type": "stream",
     "text": [
      "This function returns sum of elements in the list\n"
     ]
    }
   ],
   "source": [
    "print(sum_list.__doc__)"
   ]
  },
  {
   "cell_type": "code",
   "execution_count": 9,
   "metadata": {},
   "outputs": [
    {
     "name": "stdout",
     "output_type": "stream",
     "text": [
      "global variable is: Mamatharun\n",
      "local varaible is: They need it\n",
      "Mamatharun\n"
     ]
    },
    {
     "ename": "NameError",
     "evalue": "name 's' is not defined",
     "output_type": "error",
     "traceback": [
      "\u001b[1;31m---------------------------------------------------------------------------\u001b[0m",
      "\u001b[1;31mNameError\u001b[0m                                 Traceback (most recent call last)",
      "\u001b[1;32m<ipython-input-9-1f90778ae01c>\u001b[0m in \u001b[0;36m<module>\u001b[1;34m\u001b[0m\n\u001b[0;32m      8\u001b[0m \u001b[0mlove\u001b[0m\u001b[1;33m(\u001b[0m\u001b[1;33m)\u001b[0m\u001b[1;33m\u001b[0m\u001b[1;33m\u001b[0m\u001b[0m\n\u001b[0;32m      9\u001b[0m \u001b[0mprint\u001b[0m\u001b[1;33m(\u001b[0m\u001b[0mglo\u001b[0m\u001b[1;33m)\u001b[0m\u001b[1;33m\u001b[0m\u001b[1;33m\u001b[0m\u001b[0m\n\u001b[1;32m---> 10\u001b[1;33m \u001b[0mprint\u001b[0m\u001b[1;33m(\u001b[0m\u001b[0ms\u001b[0m\u001b[1;33m)\u001b[0m\u001b[1;33m\u001b[0m\u001b[1;33m\u001b[0m\u001b[0m\n\u001b[0m",
      "\u001b[1;31mNameError\u001b[0m: name 's' is not defined"
     ]
    }
   ],
   "source": [
    "glo = 'Mamatharun'\n",
    "\n",
    "def love():\n",
    "    s = 'They need it'\n",
    "    print('global variable is:', glo)\n",
    "    print('local varaible is:', s)\n",
    "    \n",
    "love()\n",
    "print(glo)\n",
    "print(s)"
   ]
  },
  {
   "cell_type": "code",
   "execution_count": 18,
   "metadata": {},
   "outputs": [
    {
     "name": "stdout",
     "output_type": "stream",
     "text": [
      "1\n"
     ]
    }
   ],
   "source": [
    "def hcf(num1,num2):\n",
    "    if num1>num2:\n",
    "        num = num2\n",
    "    else:\n",
    "        num = num1\n",
    "    hc = 1\n",
    "    for i in range(2,num+1):\n",
    "        if num1%i == 0 and num2%i ==0:\n",
    "            hc = i\n",
    "    print(hc)\n",
    "hcf(4,9)"
   ]
  },
  {
   "cell_type": "code",
   "execution_count": 1,
   "metadata": {},
   "outputs": [
    {
     "name": "stdout",
     "output_type": "stream",
     "text": [
      "20.5\n"
     ]
    }
   ],
   "source": [
    "b = -20.5\n",
    "print(abs(b))"
   ]
  },
  {
   "cell_type": "code",
   "execution_count": 2,
   "metadata": {},
   "outputs": [
    {
     "name": "stdout",
     "output_type": "stream",
     "text": [
      "True\n"
     ]
    }
   ],
   "source": [
    "b = [1,2,3,45]\n",
    "print(all(b))"
   ]
  },
  {
   "cell_type": "code",
   "execution_count": 2,
   "metadata": {},
   "outputs": [
    {
     "name": "stdout",
     "output_type": "stream",
     "text": [
      "False\n"
     ]
    }
   ],
   "source": [
    "c = (-1,2,0)\n",
    "print(all(c))"
   ]
  },
  {
   "cell_type": "code",
   "execution_count": 3,
   "metadata": {},
   "outputs": [
    {
     "name": "stdout",
     "output_type": "stream",
     "text": [
      "['__add__', '__class__', '__contains__', '__delattr__', '__dir__', '__doc__', '__eq__', '__format__', '__ge__', '__getattribute__', '__getitem__', '__getnewargs__', '__gt__', '__hash__', '__init__', '__init_subclass__', '__iter__', '__le__', '__len__', '__lt__', '__mul__', '__ne__', '__new__', '__reduce__', '__reduce_ex__', '__repr__', '__rmul__', '__setattr__', '__sizeof__', '__str__', '__subclasshook__', 'count', 'index']\n"
     ]
    }
   ],
   "source": [
    "print(dir(c))"
   ]
  },
  {
   "cell_type": "code",
   "execution_count": 4,
   "metadata": {},
   "outputs": [
    {
     "ename": "AttributeError",
     "evalue": "'tuple' object has no attribute 'add'",
     "output_type": "error",
     "traceback": [
      "\u001b[1;31m---------------------------------------------------------------------------\u001b[0m",
      "\u001b[1;31mAttributeError\u001b[0m                            Traceback (most recent call last)",
      "\u001b[1;32m<ipython-input-4-0a3132dd5b4c>\u001b[0m in \u001b[0;36m<module>\u001b[1;34m\u001b[0m\n\u001b[0;32m      1\u001b[0m \u001b[1;31m# chechking tple has attribute add or not\u001b[0m\u001b[1;33m\u001b[0m\u001b[1;33m\u001b[0m\u001b[1;33m\u001b[0m\u001b[0m\n\u001b[1;32m----> 2\u001b[1;33m \u001b[0mc\u001b[0m\u001b[1;33m.\u001b[0m\u001b[0madd\u001b[0m\u001b[1;33m(\u001b[0m\u001b[1;36m10\u001b[0m\u001b[1;33m)\u001b[0m\u001b[1;33m\u001b[0m\u001b[1;33m\u001b[0m\u001b[0m\n\u001b[0m",
      "\u001b[1;31mAttributeError\u001b[0m: 'tuple' object has no attribute 'add'"
     ]
    }
   ],
   "source": [
    "# chechking tple has attribute add or not\n",
    "c.add(10)"
   ]
  },
  {
   "cell_type": "code",
   "execution_count": 7,
   "metadata": {},
   "outputs": [
    {
     "name": "stdout",
     "output_type": "stream",
     "text": [
      "(2, 0)\n"
     ]
    }
   ],
   "source": [
    "print(divmod(4,2))"
   ]
  },
  {
   "cell_type": "code",
   "execution_count": 16,
   "metadata": {},
   "outputs": [
    {
     "name": "stdout",
     "output_type": "stream",
     "text": [
      "0 indices of the 1\n",
      "1 indices of the 2\n",
      "2 indices of the 3\n",
      "3 indices of the 45\n",
      "4 indices of the 6\n",
      "5 indices of the 7\n",
      "6 indices of the 8\n",
      "7 indices of the 9\n"
     ]
    }
   ],
   "source": [
    "d = [1,2,3,45,6,7,8,9]\n",
    "for index,val in enumerate(d):\n",
    "    print('{} indices of the {}'.format(index,val))"
   ]
  },
  {
   "cell_type": "code",
   "execution_count": 21,
   "metadata": {},
   "outputs": [
    {
     "name": "stdout",
     "output_type": "stream",
     "text": [
      "50 1\n",
      "51 2\n",
      "52 3\n",
      "53 45\n",
      "54 6\n",
      "55 7\n",
      "56 8\n",
      "57 9\n"
     ]
    }
   ],
   "source": [
    "d = [1,2,3,45,6,7,8,9]\n",
    "\n",
    "for index, val in enumerate(d,50):\n",
    "    print(index,val)\n"
   ]
  },
  {
   "cell_type": "code",
   "execution_count": 30,
   "metadata": {},
   "outputs": [
    {
     "name": "stdout",
     "output_type": "stream",
     "text": [
      "[-10, -9, -8, -7, -6, -5, -4, -3, -2, -1, 0, 1, 2, 3, 4, 5, 6, 7, 8, 9]\n"
     ]
    }
   ],
   "source": [
    "lst = list(range(-10,10))\n",
    "print(lst)"
   ]
  },
  {
   "cell_type": "code",
   "execution_count": 31,
   "metadata": {},
   "outputs": [
    {
     "name": "stdout",
     "output_type": "stream",
     "text": [
      "[1, 2, 3, 4, 5, 6, 7, 8, 9]\n"
     ]
    }
   ],
   "source": [
    "def funfil(num):\n",
    "    if num>0:\n",
    "        return num\n",
    "c = list(filter(funfil,lst))\n",
    "print(c)"
   ]
  },
  {
   "cell_type": "code",
   "execution_count": 32,
   "metadata": {},
   "outputs": [
    {
     "name": "stdout",
     "output_type": "stream",
     "text": [
      "True\n"
     ]
    }
   ],
   "source": [
    "print(isinstance(d,list))"
   ]
  },
  {
   "cell_type": "code",
   "execution_count": 34,
   "metadata": {},
   "outputs": [
    {
     "name": "stdout",
     "output_type": "stream",
     "text": [
      "True\n"
     ]
    }
   ],
   "source": [
    "print(isinstance(c,list))"
   ]
  },
  {
   "cell_type": "code",
   "execution_count": 60,
   "metadata": {},
   "outputs": [
    {
     "name": "stdout",
     "output_type": "stream",
     "text": [
      "[1, 4, 9, 16, 25, 36, 49, 64, 81]\n"
     ]
    }
   ],
   "source": [
    "h = [1,2,3,4,5,6,7,8,9]\n",
    "def sqr(num):\n",
    "    n = num**2\n",
    "    return n\n",
    "def add(x,y):\n",
    "    return x*y\n",
    "d = list(map(sqr,h))\n",
    "print(d)"
   ]
  },
  {
   "cell_type": "code",
   "execution_count": 61,
   "metadata": {},
   "outputs": [
    {
     "name": "stdout",
     "output_type": "stream",
     "text": [
      "[1, 4, 9, 16, 25, 36, 49, 64, 81]\n"
     ]
    }
   ],
   "source": [
    "p = []\n",
    "for i in h:\n",
    "    p.append(i**2)\n",
    "\n",
    "print(p)"
   ]
  },
  {
   "cell_type": "code",
   "execution_count": 62,
   "metadata": {},
   "outputs": [
    {
     "name": "stdout",
     "output_type": "stream",
     "text": [
      "45\n"
     ]
    }
   ],
   "source": [
    "s = 0\n",
    "for i in h:\n",
    "    s+=i\n",
    "print(s)"
   ]
  },
  {
   "cell_type": "code",
   "execution_count": 63,
   "metadata": {},
   "outputs": [
    {
     "name": "stdout",
     "output_type": "stream",
     "text": [
      "362880\n"
     ]
    }
   ],
   "source": [
    "from functools import reduce\n",
    "print(reduce(add,h))"
   ]
  },
  {
   "cell_type": "code",
   "execution_count": 58,
   "metadata": {},
   "outputs": [
    {
     "name": "stdout",
     "output_type": "stream",
     "text": [
      "Enter a choice:1\n",
      "enter a value2\n",
      "enter a value3\n",
      "5\n"
     ]
    }
   ],
   "source": [
    "def add(x,y):\n",
    "    return x+y\n",
    "def sub(x,y):\n",
    "    return x-y\n",
    "def mul(x,y):\n",
    "    return x*y\n",
    "def div(x,y):\n",
    "    return x%y\n",
    "\n",
    "choice = int(input('Enter a choice:'))\n",
    "x = int(input('enter a value'))\n",
    "y = int(input('enter a value'))\n",
    "\n",
    "if choice == 1:\n",
    "    print(add(x,y))\n",
    "if choice == 2:\n",
    "    sub(x,y)\n",
    "if choice == 3:\n",
    "    mul(x,y)\n",
    "if choice == 4:\n",
    "    div(x,y)"
   ]
  },
  {
   "cell_type": "code",
   "execution_count": 57,
   "metadata": {},
   "outputs": [
    {
     "data": {
      "text/plain": [
       "3"
      ]
     },
     "execution_count": 57,
     "metadata": {},
     "output_type": "execute_result"
    }
   ],
   "source": [
    "def add(x,y):\n",
    "    return x+y\n",
    "add(1,2)"
   ]
  },
  {
   "cell_type": "code",
   "execution_count": 64,
   "metadata": {},
   "outputs": [
    {
     "name": "stdout",
     "output_type": "stream",
     "text": [
      "square of 2 is 4\n"
     ]
    }
   ],
   "source": [
    "def bbbb(x,y):\n",
    "    print('square of {} is {}'.format(x,y))\n",
    "bbbb(2,4)"
   ]
  },
  {
   "cell_type": "code",
   "execution_count": 66,
   "metadata": {},
   "outputs": [
    {
     "name": "stdout",
     "output_type": "stream",
     "text": [
      "Greetings Mr huhu\n"
     ]
    }
   ],
   "source": [
    "def cc(x, y = 'bcdk'):\n",
    "    print('{} Mr {}'.format(x,y))\n",
    "cc('Greetings', 'huhu')"
   ]
  },
  {
   "cell_type": "code",
   "execution_count": 71,
   "metadata": {},
   "outputs": [
    {
     "name": "stdout",
     "output_type": "stream",
     "text": [
      "Greetings Mr Tharun\n"
     ]
    }
   ],
   "source": [
    "def ss(**kwargs):\n",
    "    print('{} Mr {}'.format(kwargs['wishes'], kwargs['name']))\n",
    "    \n",
    "ss(wishes = 'Greetings',name = 'Tharun')"
   ]
  },
  {
   "cell_type": "code",
   "execution_count": 73,
   "metadata": {},
   "outputs": [
    {
     "name": "stdout",
     "output_type": "stream",
     "text": [
      "1\n",
      "4\n",
      "16\n",
      "25\n",
      "36\n",
      "49\n",
      "64\n",
      "81\n"
     ]
    }
   ],
   "source": [
    "def kk(*numbers):\n",
    "    for i in numbers:\n",
    "        print(i**2)\n",
    "kk(1,2,4,5,6,7,8,9)"
   ]
  },
  {
   "cell_type": "code",
   "execution_count": 75,
   "metadata": {},
   "outputs": [
    {
     "name": "stdout",
     "output_type": "stream",
     "text": [
      "45\n"
     ]
    }
   ],
   "source": [
    "from functools import reduce\n",
    "\n",
    "x = [1,2,3,4,5,6,7,8,9]\n",
    "\n",
    "def add(n,m):\n",
    "    return(n+m)\n",
    "\n",
    "y = reduce(add,x)\n",
    "print(y)"
   ]
  },
  {
   "cell_type": "code",
   "execution_count": 5,
   "metadata": {},
   "outputs": [
    {
     "name": "stdout",
     "output_type": "stream",
     "text": [
      "enter the number of integers: 1 1 1 1\n"
     ]
    }
   ],
   "source": [
    "n = input('enter the number of integers: ')\n"
   ]
  },
  {
   "cell_type": "code",
   "execution_count": 3,
   "metadata": {},
   "outputs": [
    {
     "name": "stdout",
     "output_type": "stream",
     "text": [
      "<class 'str'>\n"
     ]
    }
   ],
   "source": [
    "print(type(n))"
   ]
  },
  {
   "cell_type": "code",
   "execution_count": 10,
   "metadata": {},
   "outputs": [
    {
     "name": "stdout",
     "output_type": "stream",
     "text": [
      "Give the total number of integers as input: 1\n",
      "Enter the integers with space: 1111\n",
      "1111\n"
     ]
    }
   ],
   "source": [
    "from functools import reduce   \n",
    "\n",
    "number_of_integers = int(input('Give the total number of integers as input: '))  \n",
    "\n",
    "entering_integers = input('Enter the integers with space: ')\n",
    "\n",
    "my_list = entering_integers.split()\n",
    "\n",
    "\n",
    "def numbers_prob(x,y):          \n",
    "    return int(x)+int(y)\n",
    "\n",
    "\n",
    "result = reduce(numbers_prob,my_list)\n",
    "\n",
    "print(result)"
   ]
  },
  {
   "cell_type": "code",
   "execution_count": 12,
   "metadata": {},
   "outputs": [
    {
     "name": "stdout",
     "output_type": "stream",
     "text": [
      "1\n",
      "1\n",
      "1\n",
      "1\n"
     ]
    }
   ],
   "source": [
    "lst = ['1', '1', '1', '1']\n",
    "\n",
    "for ele in lst:\n",
    "    print(int(ele))"
   ]
  },
  {
   "cell_type": "code",
   "execution_count": null,
   "metadata": {},
   "outputs": [],
   "source": [
    "from functools import reduce   \n",
    "\n",
    "number_of_integers = int(input('4'))  \n",
    "\n",
    "entering_integers = input('1 1 1 1')\n",
    "\n",
    "my_list = entering_integers.split()\n",
    "\n",
    "lst = []\n",
    "\n",
    "for ele in my_list:\n",
    "    lst.append(int(ele))\n",
    "\n",
    "def numbers_prob(x,y):          \n",
    "    return x+y\n",
    "\n",
    "\n",
    "result = reduce(numbers_prob,lst)\n",
    "\n",
    "print(result)"
   ]
  },
  {
   "cell_type": "code",
   "execution_count": null,
   "metadata": {},
   "outputs": [],
   "source": [
    "\n",
    "lst = ['1','2','3','4']\n",
    "\n",
    "def numbers_prob(x,y):          \n",
    "    return int(x)+(y)\n",
    "\n",
    "\n",
    "result = reduce(numbers_prob,lst)"
   ]
  },
  {
   "cell_type": "code",
   "execution_count": null,
   "metadata": {},
   "outputs": [],
   "source": []
  }
 ],
 "metadata": {
  "kernelspec": {
   "display_name": "Python 3",
   "language": "python",
   "name": "python3"
  },
  "language_info": {
   "codemirror_mode": {
    "name": "ipython",
    "version": 3
   },
   "file_extension": ".py",
   "mimetype": "text/x-python",
   "name": "python",
   "nbconvert_exporter": "python",
   "pygments_lexer": "ipython3",
   "version": "3.8.5"
  }
 },
 "nbformat": 4,
 "nbformat_minor": 4
}
